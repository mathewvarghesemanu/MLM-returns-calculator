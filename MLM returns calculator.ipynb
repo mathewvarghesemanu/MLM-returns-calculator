{
 "cells": [
  {
   "cell_type": "code",
   "execution_count": 2,
   "metadata": {},
   "outputs": [
    {
     "name": "stdout",
     "output_type": "stream",
     "text": [
      "Number of levels needed for Return on Investment= 9\n",
      "Number of new recruits needed for Return on Investment(assuming noone buys second)= 512\n",
      "Profit= 3000\n"
     ]
    }
   ],
   "source": [
    "Expected_profit=0\n",
    "investment=150000\n",
    "payout_for_each_level=17000\n",
    "returns=0\n",
    "for i in range(1,100):\n",
    "    returns+=payout_for_each_level\n",
    "    if(returns>investment+Expected_profit):\n",
    "        print(\"Number of levels needed for Return on Investment=\",i)\n",
    "        print(\"Number of new recruits needed for Return on Investment(assuming noone buys second)=\",2**i)\n",
    "        print(\"Profit=\",returns-investment)\n",
    "        break"
   ]
  },
  {
   "cell_type": "code",
   "execution_count": 3,
   "metadata": {},
   "outputs": [
    {
     "name": "stdout",
     "output_type": "stream",
     "text": [
      "Number of levels needed for Return on Investment= 18\n",
      "Number of new recruits needed for Return on Investment(assuming noone buys second)= 262144\n",
      "Profit= 156000\n"
     ]
    }
   ],
   "source": [
    "Expected_profit=150000\n",
    "investment=150000\n",
    "payout_for_each_level=17000\n",
    "returns=0\n",
    "for i in range(1,100):\n",
    "    returns+=payout_for_each_level\n",
    "    if(returns>investment+Expected_profit):\n",
    "        print(\"Number of levels needed for Return on Investment=\",i)\n",
    "        print(\"Number of new recruits needed for Return on Investment(assuming noone buys second)=\",2**i)\n",
    "        print(\"Profit=\",returns-investment)\n",
    "        break"
   ]
  },
  {
   "cell_type": "code",
   "execution_count": 4,
   "metadata": {},
   "outputs": [
    {
     "name": "stdout",
     "output_type": "stream",
     "text": [
      "Number of levels needed for Return on Investment= 27\n",
      "Number of new recruits needed for Return on Investment(assuming noone buys second)= 134217728\n",
      "Profit= 309000\n"
     ]
    }
   ],
   "source": [
    "Expected_profit=300000\n",
    "investment=150000\n",
    "payout_for_each_level=17000\n",
    "returns=0\n",
    "for i in range(1,100):\n",
    "    returns+=payout_for_each_level\n",
    "    if(returns>investment+Expected_profit):\n",
    "        print(\"Number of levels needed for Return on Investment=\",i)\n",
    "        print(\"Number of new recruits needed for Return on Investment(assuming noone buys second)=\",2**i)\n",
    "        print(\"Profit=\",returns-investment)\n",
    "        break"
   ]
  },
  {
   "cell_type": "code",
   "execution_count": 5,
   "metadata": {},
   "outputs": [
    {
     "name": "stdout",
     "output_type": "stream",
     "text": [
      "Number of levels needed for Return on Investment= 27\n",
      "Number of new recruits needed for Return on Investment(assuming noone buys second)= 134217728\n",
      "Profit= 309000\n"
     ]
    }
   ],
   "source": [
    "Expected_profit=300000\n",
    "investment=150000\n",
    "payout_for_each_level=17000\n",
    "returns=0\n",
    "for i in range(1,100):\n",
    "    returns+=payout_for_each_level\n",
    "    if(returns>investment+Expected_profit):\n",
    "        print(\"Number of levels needed for Return on Investment=\",i)\n",
    "        print(\"Number of new recruits needed for Return on Investment(assuming noone buys second)=\",2**i)\n",
    "        print(\"Profit=\",returns-investment)\n",
    "        break"
   ]
  }
 ],
 "metadata": {
  "kernelspec": {
   "display_name": "Python 3",
   "language": "python",
   "name": "python3"
  },
  "language_info": {
   "codemirror_mode": {
    "name": "ipython",
    "version": 3
   },
   "file_extension": ".py",
   "mimetype": "text/x-python",
   "name": "python",
   "nbconvert_exporter": "python",
   "pygments_lexer": "ipython3",
   "version": "3.8.3"
  }
 },
 "nbformat": 4,
 "nbformat_minor": 4
}
